{
 "cells": [
  {
   "cell_type": "code",
   "execution_count": 5,
   "metadata": {},
   "outputs": [],
   "source": [
    "import pandas as pd\n"
   ]
  },
  {
   "cell_type": "code",
   "execution_count": 7,
   "metadata": {},
   "outputs": [],
   "source": [
    "df = pd.read_excel('Internet.xlsx', sheet_name='Totales Accesos Por Tecnología')"
   ]
  },
  {
   "cell_type": "code",
   "execution_count": 8,
   "metadata": {},
   "outputs": [
    {
     "data": {
      "text/html": [
       "<div>\n",
       "<style scoped>\n",
       "    .dataframe tbody tr th:only-of-type {\n",
       "        vertical-align: middle;\n",
       "    }\n",
       "\n",
       "    .dataframe tbody tr th {\n",
       "        vertical-align: top;\n",
       "    }\n",
       "\n",
       "    .dataframe thead th {\n",
       "        text-align: right;\n",
       "    }\n",
       "</style>\n",
       "<table border=\"1\" class=\"dataframe\">\n",
       "  <thead>\n",
       "    <tr style=\"text-align: right;\">\n",
       "      <th></th>\n",
       "      <th>Año</th>\n",
       "      <th>Trimestre</th>\n",
       "      <th>ADSL</th>\n",
       "      <th>Cablemodem</th>\n",
       "      <th>Fibra óptica</th>\n",
       "      <th>Wireless</th>\n",
       "      <th>Otros</th>\n",
       "      <th>Total</th>\n",
       "      <th>Periodo</th>\n",
       "    </tr>\n",
       "  </thead>\n",
       "  <tbody>\n",
       "    <tr>\n",
       "      <th>0</th>\n",
       "      <td>2024</td>\n",
       "      <td>2</td>\n",
       "      <td>733491</td>\n",
       "      <td>5867504</td>\n",
       "      <td>4169958</td>\n",
       "      <td>593197</td>\n",
       "      <td>191957</td>\n",
       "      <td>11556107</td>\n",
       "      <td>Abr-Jun 2024</td>\n",
       "    </tr>\n",
       "    <tr>\n",
       "      <th>1</th>\n",
       "      <td>2024</td>\n",
       "      <td>1</td>\n",
       "      <td>774475</td>\n",
       "      <td>5986957</td>\n",
       "      <td>4015101</td>\n",
       "      <td>598682</td>\n",
       "      <td>257941</td>\n",
       "      <td>11633156</td>\n",
       "      <td>Ene-Mar 2024</td>\n",
       "    </tr>\n",
       "    <tr>\n",
       "      <th>2</th>\n",
       "      <td>2023</td>\n",
       "      <td>4</td>\n",
       "      <td>836390</td>\n",
       "      <td>6022532</td>\n",
       "      <td>3908183</td>\n",
       "      <td>585760</td>\n",
       "      <td>194796</td>\n",
       "      <td>11547661</td>\n",
       "      <td>Oct-Dic 2023</td>\n",
       "    </tr>\n",
       "    <tr>\n",
       "      <th>3</th>\n",
       "      <td>2023</td>\n",
       "      <td>3</td>\n",
       "      <td>897895</td>\n",
       "      <td>6018832</td>\n",
       "      <td>3708718</td>\n",
       "      <td>581436</td>\n",
       "      <td>200027</td>\n",
       "      <td>11406908</td>\n",
       "      <td>Jul-Sept 2023</td>\n",
       "    </tr>\n",
       "    <tr>\n",
       "      <th>4</th>\n",
       "      <td>2023</td>\n",
       "      <td>2</td>\n",
       "      <td>1006509</td>\n",
       "      <td>5997149</td>\n",
       "      <td>3463988</td>\n",
       "      <td>581823</td>\n",
       "      <td>202428</td>\n",
       "      <td>11251897</td>\n",
       "      <td>Abr-Jun 2023</td>\n",
       "    </tr>\n",
       "  </tbody>\n",
       "</table>\n",
       "</div>"
      ],
      "text/plain": [
       "    Año  Trimestre     ADSL  Cablemodem  Fibra óptica  Wireless   Otros  \\\n",
       "0  2024          2   733491     5867504       4169958    593197  191957   \n",
       "1  2024          1   774475     5986957       4015101    598682  257941   \n",
       "2  2023          4   836390     6022532       3908183    585760  194796   \n",
       "3  2023          3   897895     6018832       3708718    581436  200027   \n",
       "4  2023          2  1006509     5997149       3463988    581823  202428   \n",
       "\n",
       "      Total        Periodo  \n",
       "0  11556107   Abr-Jun 2024  \n",
       "1  11633156   Ene-Mar 2024  \n",
       "2  11547661   Oct-Dic 2023  \n",
       "3  11406908  Jul-Sept 2023  \n",
       "4  11251897   Abr-Jun 2023  "
      ]
     },
     "execution_count": 8,
     "metadata": {},
     "output_type": "execute_result"
    }
   ],
   "source": [
    "df.head()"
   ]
  }
 ],
 "metadata": {
  "kernelspec": {
   "display_name": "Python 3",
   "language": "python",
   "name": "python3"
  },
  "language_info": {
   "codemirror_mode": {
    "name": "ipython",
    "version": 3
   },
   "file_extension": ".py",
   "mimetype": "text/x-python",
   "name": "python",
   "nbconvert_exporter": "python",
   "pygments_lexer": "ipython3",
   "version": "3.10.11"
  }
 },
 "nbformat": 4,
 "nbformat_minor": 2
}
